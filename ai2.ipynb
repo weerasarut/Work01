{
 "cells": [
  {
   "cell_type": "code",
   "execution_count": 1,
   "id": "51699d2f",
   "metadata": {},
   "outputs": [
    {
     "name": "stderr",
     "output_type": "stream",
     "text": [
      "C:\\Users\\Newcom12664\\anaconda3\\lib\\site-packages\\numpy\\_distributor_init.py:30: UserWarning: loaded more than 1 DLL from .libs:\n",
      "C:\\Users\\Newcom12664\\anaconda3\\lib\\site-packages\\numpy\\.libs\\libopenblas.WCDJNK7YVMPZQ2ME2ZZHJJRJ3JIKNDB7.gfortran-win_amd64.dll\n",
      "C:\\Users\\Newcom12664\\anaconda3\\lib\\site-packages\\numpy\\.libs\\libopenblas.XWYDX2IKJW2NMTWSFYNGFUWKQU3LYTCZ.gfortran-win_amd64.dll\n",
      "  warnings.warn(\"loaded more than 1 DLL from .libs:\"\n"
     ]
    }
   ],
   "source": [
    "import numpy as np\n",
    "from numpy import random\n",
    "\n",
    "checkpoint = [\"A\",\"B\",\"C\",\"D\",\"E\"]\n",
    "adjecency = np.asarray([\n",
    "    [0,2,5,8,0],\n",
    "    [2,0,0,3,4],\n",
    "    [5,0,0,4,3],\n",
    "    [8,3,4,0,2],\n",
    "    [0,4,3,2,0]\n",
    "])\n",
    "\n",
    "class Bestdistance:\n",
    "  def __init__(self,KM,_start,_end):\n",
    "    self.distance = KM\n",
    "    self.start = next(x for x in range(len(checkpoint)) if _start==checkpoint[x])\n",
    "    self.end = next(x for x in range(len(checkpoint)) if _end==checkpoint[x])\n",
    "    self.value = [] # เส้นทางการเดิน\n",
    "    self._set_ = [] # รวมศูนย์\n",
    "    self.check = [] # เช็คความถูกต้องของเส้นทางออกกำลังกาย\n",
    "    self.point = [] # จุดที่ไปเหยียบ\n",
    "\n",
    "  def Distance(self,new_start,walk):\n",
    "    count=0\n",
    "    while count < len(adjecency[new_start]):\n",
    "      c = adjecency[new_start][count]\n",
    "      walk+=1\n",
    "      if c != 0:\n",
    "        self.value.append(walk)\n",
    "      count+=1\n",
    "    rd=self.value[random.randint(0, len(self.value))]\n",
    "    return rd\n",
    "\n",
    "  def cal(self):\n",
    "    rate=0\n",
    "    _sum=0\n",
    "    while rate<1000:\n",
    "      n=[]\n",
    "      pre_start=self.start\n",
    "      select=0\n",
    "      while self.end != pre_start:\n",
    "        self.value=[]\n",
    "        select=self.Distance(pre_start,-1)\n",
    "        _sum+=adjecency[pre_start][select]\n",
    "        n.append(checkpoint[select])\n",
    "        pre_start=select\n",
    "      self._set_.append(_sum)\n",
    "      self.point.append(n)\n",
    "      _sum=0\n",
    "      pre_start=self.start\n",
    "      rate+=1\n",
    "\n",
    "  def checkCal(self):\n",
    "    for i in self._set_:\n",
    "      if i > self.distance:\n",
    "        self.check.append(i-self.distance)\n",
    "      else:\n",
    "        self.check.append(self.distance-i)\n",
    "        \n",
    "  def Display(self):\n",
    "    print(checkpoint[self.start],\" -->\",end=\" \")\n",
    "    for i in range(len(self.check)):\n",
    "      if min(self.check)==self.check[i]:\n",
    "        display=self.point[i]\n",
    "        total=self._set_[i]\n",
    "    for j in range(len(display)):\n",
    "      if j < len(display)-1:\n",
    "        print(display[j], \" -->\",end=\" \")\n",
    "      else:\n",
    "        print(display[j],end=\" \")\n"
   ]
  },
  {
   "cell_type": "code",
   "execution_count": null,
   "id": "cd6f5e19",
   "metadata": {},
   "outputs": [
    {
     "name": "stdout",
     "output_type": "stream",
     "text": [
      "เส้นทางออกกำลังกาย\n",
      "จุด: A,B,C,D,E\n",
      "ระยะทางที่ต้องการ (km): 12\n",
      "จุดเริ่มต้น: A\n"
     ]
    }
   ],
   "source": [
    "#---------------- Main Class -----------------------\n",
    "print('เส้นทางออกกำลังกาย\\nจุด: A,B,C,D,E')\n",
    "KM = int(input('ระยะทางที่ต้องการ (km): '))\n",
    "_start = input('จุดเริ่มต้น: ')\n",
    "_end = input('จุดปลายทาง: ')\n",
    "BD = Bestdistance(KM,_start,_end)\n",
    "BD.cal()\n",
    "BD.checkCal()\n",
    "BD.Display()"
   ]
  }
 ],
 "metadata": {
  "kernelspec": {
   "display_name": "Python 3",
   "language": "python",
   "name": "python3"
  },
  "language_info": {
   "codemirror_mode": {
    "name": "ipython",
    "version": 3
   },
   "file_extension": ".py",
   "mimetype": "text/x-python",
   "name": "python",
   "nbconvert_exporter": "python",
   "pygments_lexer": "ipython3",
   "version": "3.8.8"
  }
 },
 "nbformat": 4,
 "nbformat_minor": 5
}
